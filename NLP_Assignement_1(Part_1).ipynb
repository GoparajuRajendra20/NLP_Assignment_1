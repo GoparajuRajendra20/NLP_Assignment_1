{
  "nbformat": 4,
  "nbformat_minor": 0,
  "metadata": {
    "colab": {
      "provenance": []
    },
    "kernelspec": {
      "name": "python3",
      "display_name": "Python 3"
    },
    "language_info": {
      "name": "python"
    }
  },
  "cells": [
    {
      "cell_type": "code",
      "source": [
        "import nltk\n",
        "import re\n",
        "from collections import Counter\n",
        "from nltk.tokenize import word_tokenize\n",
        "from nltk.tokenize import word_tokenize\n",
        "from nltk.corpus import gutenberg\n",
        "import json\n",
        "import matplotlib.pyplot as plt"
      ],
      "metadata": {
        "id": "ZHr9N4BMlLL5"
      },
      "execution_count": 49,
      "outputs": []
    },
    {
      "cell_type": "code",
      "execution_count": 19,
      "metadata": {
        "colab": {
          "base_uri": "https://localhost:8080/"
        },
        "id": "Pm9fR66Hktxd",
        "outputId": "b4cf98d4-cd4e-4fd1-9f6a-2b38381f1c2d"
      },
      "outputs": [
        {
          "output_type": "stream",
          "name": "stderr",
          "text": [
            "[nltk_data] Downloading package gutenberg to /root/nltk_data...\n",
            "[nltk_data]   Package gutenberg is already up-to-date!\n"
          ]
        }
      ],
      "source": [
        "nltk.download('gutenberg')\n",
        "from nltk.corpus import gutenberg"
      ]
    },
    {
      "cell_type": "code",
      "source": [
        "import nltk\n",
        "nltk.download('punkt')"
      ],
      "metadata": {
        "colab": {
          "base_uri": "https://localhost:8080/"
        },
        "id": "rTaPrN124hof",
        "outputId": "a45a03a6-6a84-4aaf-c060-bd799c24a345"
      },
      "execution_count": 20,
      "outputs": [
        {
          "output_type": "stream",
          "name": "stderr",
          "text": [
            "[nltk_data] Downloading package punkt to /root/nltk_data...\n",
            "[nltk_data]   Package punkt is already up-to-date!\n"
          ]
        },
        {
          "output_type": "execute_result",
          "data": {
            "text/plain": [
              "True"
            ]
          },
          "metadata": {},
          "execution_count": 20
        }
      ]
    },
    {
      "cell_type": "code",
      "source": [
        "# Task 1: Implementing BPE Algorithm\n",
        "class BPE:\n",
        "    def __init__(self):\n",
        "        self.vocab_size_history = []  # Tracking vocabulary size over iterations\n",
        "        self.merge_frequency_history = []  # Tracking merge frequency over iterations\n",
        "\n",
        "        self.vocab = Counter()\n",
        "\n",
        "    def learn_vocab_and_train(self, data, num_merges):\n",
        "        self.vocab = Counter(data)\n",
        "        for i in range(num_merges):\n",
        "            pairs = self.get_stats()\n",
        "            if not pairs:\n",
        "                break\n",
        "            best_pair = max(pairs, key=pairs.get)\n",
        "            self.merge_vocab(best_pair)\n",
        "            self.vocab_size_history.append(len(self.vocab))\n",
        "            self.merge_frequency_history.append(num_merges)\n",
        "\n",
        "    def get_stats(self):\n",
        "        pairs = {}\n",
        "        for word, freq in self.vocab.items():\n",
        "            symbols = word.split()\n",
        "            for i in range(len(symbols) - 1):\n",
        "                pair = (symbols[i], symbols[i + 1])\n",
        "                pairs[pair] = pairs.get(pair, 0) + freq\n",
        "        return pairs\n",
        "\n",
        "    def merge_vocab(self, pair):\n",
        "        new_vocab = {}\n",
        "        bigram = ' '.join(pair)\n",
        "        replacement = ''.join(pair)\n",
        "        for word in self.vocab:\n",
        "            new_word = word.replace(bigram, replacement)\n",
        "            new_vocab[new_word] = self.vocab[word]\n",
        "        self.vocab = new_vocab\n",
        "\n",
        "    def encode(self, text):\n",
        "        symbols = text.split()\n",
        "        new_symbols = []\n",
        "        i = 0\n",
        "        while i < len(symbols):\n",
        "            pair = (symbols[i], symbols[i + 1]) if i + 1 < len(symbols) else (symbols[i], '')\n",
        "            if pair in self.vocab:\n",
        "                new_symbols.append(''.join(pair))\n",
        "                i += 2\n",
        "            else:\n",
        "                new_symbols.append(symbols[i])\n",
        "                i += 1\n",
        "        return ' '.join(new_symbols)\n",
        "\n",
        "    def decode(self, text):\n",
        "        symbols = text.split()\n",
        "        new_symbols = []\n",
        "        i = 0\n",
        "        while i < len(symbols):\n",
        "            if i + 1 < len(symbols) and symbols[i] + ' ' + symbols[i + 1] in self.vocab:\n",
        "                new_symbols.append(symbols[i] + ' ' + symbols[i + 1])\n",
        "                i += 2\n",
        "            else:\n",
        "                new_symbols.append(symbols[i])\n",
        "                i += 1\n",
        "        return ' '.join(new_symbols)"
      ],
      "metadata": {
        "id": "z2shp3H6lhnK"
      },
      "execution_count": 71,
      "outputs": []
    },
    {
      "cell_type": "code",
      "source": [
        "def custom_tokenize(text):\n",
        "    # Customizing regex based on our needs\n",
        "    return re.findall(r'\\b\\w+\\b', text)"
      ],
      "metadata": {
        "id": "5JGoC_K47Stp"
      },
      "execution_count": 72,
      "outputs": []
    },
    {
      "cell_type": "code",
      "source": [
        "#Training on NLTK Dataset\n",
        "def train_bpe_on_nltk_books(books, num_merges):\n",
        "  data = ' '.join([gutenberg.raw(book) for book in books])\n",
        "  tokens = custom_tokenize(data)\n",
        "  bpe = BPE()\n",
        "  bpe.learn_vocab_and_train(tokens, num_merges)\n",
        "  return bpe\n",
        "\n",
        "\n",
        "#Testing on NLTK Dataset\n",
        "def test_bpe_on_nltk_books(bpe, test_books):\n",
        "\n",
        "  total_tokens = 0\n",
        "  correctly_tokenized = 0\n",
        "\n",
        "  for book in test_books:\n",
        "    text = gutenberg.raw(book)\n",
        "    tokens = custom_tokenize(text)\n",
        "    total_tokens += len(tokens)\n",
        "\n",
        "    encoded_text = bpe.encode(' '.join(tokens))\n",
        "    decoded_text = bpe.decode(encoded_text)\n",
        "    decoded_tokens = word_tokenize(decoded_text)\n",
        "\n",
        "    correctly_tokenized += sum([1 for a, b in zip(tokens, decoded_tokens) if a == b])\n",
        "\n",
        "    accuracy = correctly_tokenized / total_tokens\n",
        "    coverage = len(bpe.vocab)\n",
        "    return accuracy, coverage"
      ],
      "metadata": {
        "id": "UQ6dNNSN0tKj"
      },
      "execution_count": 73,
      "outputs": []
    },
    {
      "cell_type": "code",
      "source": [
        "if __name__ == \"__main__\":\n",
        "    # Training BPE on selected NLTK books\n",
        "    training_books = [\"austen-emma.txt\", \"blake-poems.txt\", \"shakespeare-hamlet.txt\",\"milton-paradise.txt\"]\n",
        "    bpe_model = train_bpe_on_nltk_books(training_books, num_merges=100)\n",
        "\n",
        "    #Testing BPE on separate set of books\n",
        "    test_books = [\"burgess-busterbrown.txt\", \"whitman-leaves.txt\"]\n",
        "    accuracy, coverage = test_bpe_on_nltk_books(bpe_model, test_books)\n",
        "\n",
        "    print(f\"Tokenization Accuracy: {accuracy:.2%}\")\n",
        "    print(f\"Coverage (Size of Vocabulary): {coverage}\")"
      ],
      "metadata": {
        "colab": {
          "base_uri": "https://localhost:8080/"
        },
        "id": "JfGf6KJM1ADo",
        "outputId": "7062fb34-032c-4a65-fc4f-adde307622c7"
      },
      "execution_count": 74,
      "outputs": [
        {
          "output_type": "stream",
          "name": "stdout",
          "text": [
            "Tokenization Accuracy: 73.43%\n",
            "Coverage (Size of Vocabulary): 18860\n"
          ]
        }
      ]
    },
    {
      "cell_type": "code",
      "source": [
        "# Download the punkt tokenizer\n",
        "nltk.download('punkt')"
      ],
      "metadata": {
        "colab": {
          "base_uri": "https://localhost:8080/"
        },
        "id": "qG9ajSlp3sA_",
        "outputId": "7706c22d-ad9a-49ad-dec9-bac6862ebdf5"
      },
      "execution_count": 75,
      "outputs": [
        {
          "output_type": "stream",
          "name": "stderr",
          "text": [
            "[nltk_data] Downloading package punkt to /root/nltk_data...\n",
            "[nltk_data]   Package punkt is already up-to-date!\n"
          ]
        },
        {
          "output_type": "execute_result",
          "data": {
            "text/plain": [
              "True"
            ]
          },
          "metadata": {},
          "execution_count": 75
        }
      ]
    },
    {
      "cell_type": "code",
      "source": [
        "import nltk\n",
        "import json\n",
        "import re\n",
        "\n",
        "# Download the punkt tokenizer\n",
        "nltk.download('punkt')\n",
        "\n",
        "from nltk.tokenize import word_tokenize\n",
        "from nltk.corpus import gutenberg\n",
        "\n",
        "# Function to tokenize text using NLTK's punkt tokenizer\n",
        "def nltk_tokenize(text):\n",
        "    return word_tokenize(text)\n",
        "\n",
        "# Test dataset (e.g., \"frankenstein.txt\", \"dracula.txt\", \"holmes-adventures.txt\")\n",
        "test_books = [\"melville-moby_dick.txt\", \"chesterton-ball.txt\"]\n",
        "\n",
        "# Create a dictionary to store tokenized results\n",
        "reference_tokenization = {}\n",
        "\n",
        "for book in test_books:\n",
        "    text = gutenberg.raw(book)\n",
        "    text = re.sub(r'\\s+', ' ', text)  # Remove extra whitespaces\n",
        "\n",
        "    # Tokenize using NLTK's punkt tokenizer\n",
        "    tokens = nltk_tokenize(text)\n",
        "\n",
        "    # Save tokenized results in the dictionary\n",
        "    reference_tokenization[book] = tokens\n",
        "\n",
        "# Save the dictionary to a JSON file for later comparison\n",
        "with open('reference_tokenization.json', 'w') as json_file:\n",
        "    json.dump(reference_tokenization, json_file)\n",
        "\n",
        "# Print a sample of the tokenization\n",
        "for book, tokens in reference_tokenization.items():\n",
        "    print(f\"Book: {book}\")\n",
        "    print(f\"Tokens: {tokens[:10]}\")  # Print the first 10 tokens as a sample\n",
        "    print(\"\\n\")\n"
      ],
      "metadata": {
        "colab": {
          "base_uri": "https://localhost:8080/"
        },
        "id": "qrfqhb5PBWxU",
        "outputId": "00a587a4-b5ab-4aa8-a8be-146c883d9dd3"
      },
      "execution_count": 76,
      "outputs": [
        {
          "output_type": "stream",
          "name": "stderr",
          "text": [
            "[nltk_data] Downloading package punkt to /root/nltk_data...\n",
            "[nltk_data]   Package punkt is already up-to-date!\n"
          ]
        },
        {
          "output_type": "stream",
          "name": "stdout",
          "text": [
            "Book: melville-moby_dick.txt\n",
            "Tokens: ['[', 'Moby', 'Dick', 'by', 'Herman', 'Melville', '1851', ']', 'ETYMOLOGY', '.']\n",
            "\n",
            "\n",
            "Book: chesterton-ball.txt\n",
            "Tokens: ['[', 'The', 'Ball', 'and', 'The', 'Cross', 'by', 'G.K.', 'Chesterton', '1909']\n",
            "\n",
            "\n"
          ]
        }
      ]
    },
    {
      "cell_type": "code",
      "source": [
        "# Create a dictionary to store tokenized results for NLTK punkt tokenizer\n",
        "nltk_punkt_tokenization = {}\n",
        "\n",
        "for book in test_books:\n",
        "    text = gutenberg.raw(book)\n",
        "    text = re.sub(r'\\s+', ' ', text)  # Remove extra whitespaces\n",
        "\n",
        "    # Tokenize using NLTK's punkt tokenizer\n",
        "    tokens = nltk_punkt_tokenize(text)\n",
        "\n",
        "    # Save tokenized results in the dictionary\n",
        "    nltk_punkt_tokenization[book] = tokens\n",
        "\n",
        "# Now, you can use this dictionary for comparison\n",
        "for book in test_books:\n",
        "    bpe_tokens = set(bpe_model.encode(gutenberg.raw(book)).split())\n",
        "    reference_tokens = set(reference_tokenization[book])\n",
        "    nltk_punkt_tokens = set(nltk_punkt_tokenization[book])\n",
        "\n",
        "    # Correctly identified tokens\n",
        "    correct_tokens_bpe = bpe_tokens & reference_tokens\n",
        "    correct_tokens_punkt = nltk_punkt_tokens & reference_tokens\n",
        "\n",
        "    # Tokenization Accuracy\n",
        "    accuracy_bpe = len(correct_tokens_bpe) / len(reference_tokens) * 100\n",
        "    accuracy_punkt = len(correct_tokens_punkt) / len(reference_tokens) * 100\n",
        "\n",
        "    # Tokenization Coverage\n",
        "    coverage_bpe = len(bpe_tokens & reference_tokens) / len(reference_tokens) * 100\n",
        "    coverage_punkt = len(nltk_punkt_tokens & reference_tokens) / len(reference_tokens) * 100\n",
        "\n",
        "    # Print results\n",
        "    print(f\"Book: {book}\")\n",
        "    print(f\"BPE Tokenization Accuracy: {accuracy_bpe:.2f}%\")\n",
        "    print(f\"NLTK Punkt Tokenization Accuracy: {accuracy_punkt:.2f}%\")\n",
        "    print(f\"BPE Tokenization Coverage: {coverage_bpe:.2f}%\")\n",
        "    print(f\"NLTK Punkt Tokenization Coverage: {coverage_punkt:.2f}%\")\n",
        "    # ... (print the rest of the metrics)\n",
        "    print(\"\\n\")\n"
      ],
      "metadata": {
        "colab": {
          "base_uri": "https://localhost:8080/"
        },
        "id": "YLAVDiLuIBVG",
        "outputId": "3a112e29-64cb-422e-df9c-c0c0af7c79aa"
      },
      "execution_count": 77,
      "outputs": [
        {
          "output_type": "stream",
          "name": "stdout",
          "text": [
            "Book: melville-moby_dick.txt\n",
            "BPE Tokenization Accuracy: 79.65%\n",
            "NLTK Punkt Tokenization Accuracy: 100.00%\n",
            "BPE Tokenization Coverage: 79.65%\n",
            "NLTK Punkt Tokenization Coverage: 100.00%\n",
            "\n",
            "\n",
            "Book: chesterton-ball.txt\n",
            "BPE Tokenization Accuracy: 82.21%\n",
            "NLTK Punkt Tokenization Accuracy: 100.00%\n",
            "BPE Tokenization Coverage: 82.21%\n",
            "NLTK Punkt Tokenization Coverage: 100.00%\n",
            "\n",
            "\n"
          ]
        }
      ]
    },
    {
      "cell_type": "code",
      "source": [
        "\n",
        "def visualize_bpe_learning(vocab_sizes, merge_frequencies):\n",
        "    plt.figure(figsize=(12, 6))\n",
        "\n",
        "    # Plotting the vocabulary size over iterations\n",
        "    plt.subplot(1, 2, 1)\n",
        "    plt.plot(vocab_sizes, marker='o')\n",
        "    plt.title('BPE Vocabulary Size Over Iterations')\n",
        "    plt.xlabel('Iterations')\n",
        "    plt.ylabel('Vocabulary Size')\n",
        "\n",
        "    # Plotting the frequency of byte pair merges over iterations\n",
        "    plt.subplot(1, 2, 2)\n",
        "    plt.plot(merge_frequencies, marker='o', color='orange')\n",
        "    plt.title('Frequency of Byte Pair Merges Over Iterations')\n",
        "    plt.xlabel('Iterations')\n",
        "    plt.ylabel('Merge Frequency')\n",
        "    plt.tight_layout()\n",
        "    plt.show()\n",
        "\n",
        "\n",
        "# Assuming the vocabsizes and merge_frequencies\n",
        "iterations = [1, 2, 3, 4, 5]\n",
        "vocab_sizes = [100, 80, 60, 40, 20]\n",
        "merge_frequencies = [200, 150, 100, 50, 10]\n",
        "\n",
        "# Visualizing the BPE learning process\n",
        "visualize_bpe_learning(vocab_sizes, merge_frequencies)\n"
      ],
      "metadata": {
        "colab": {
          "base_uri": "https://localhost:8080/",
          "height": 607
        },
        "id": "9gTqKjj0JB0w",
        "outputId": "9b07d4d3-6054-4b14-884f-d1c0edc6cd28"
      },
      "execution_count": 79,
      "outputs": [
        {
          "output_type": "display_data",
          "data": {
            "text/plain": [
              "<Figure size 1200x600 with 2 Axes>"
            ],
            "image/png": "[encoded data removed]"
          },
          "metadata": {}
        }
      ]
    }
  ]
}